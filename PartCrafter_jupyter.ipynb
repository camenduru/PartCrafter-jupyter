{
 "cells": [
  {
   "cell_type": "markdown",
   "metadata": {
    "id": "view-in-github"
   },
   "source": [
    "[![Open In Colab](https://colab.research.google.com/assets/colab-badge.svg)](https://colab.research.google.com/github/camenduru/PartCrafter-jupyter/blob/main/PartCrafter_jupyter.ipynb)"
   ]
  },
  {
   "cell_type": "code",
   "execution_count": null,
   "metadata": {},
   "outputs": [],
   "source": [
    "%cd /content\n",
    "!git clone -b dev https://github.com/camenduru/PartCrafter-hf\n",
    "%cd /content/PartCrafter-hf\n",
    "!pip install -r requirements.txt\n",
    "\n",
    "!wget https://huggingface.co/spaces/alexnasa/PartCrafter/resolve/main/assets/images/np5_b81f29e567ea4db48014f89c9079e403.png -O /content/PartCrafter-hf/assets/images/np5_b81f29e567ea4db48014f89c9079e403.png\n",
    "!wget https://huggingface.co/spaces/alexnasa/PartCrafter/resolve/main/assets/images/np7_1c004909dedb4ebe8db69b4d7b077434.png -O /content/PartCrafter-hf/assets/images/np7_1c004909dedb4ebe8db69b4d7b077434.png\n",
    "!wget https://huggingface.co/spaces/alexnasa/PartCrafter/resolve/main/assets/images/np2_tree.png -O /content/PartCrafter-hf/assets/images/np2_tree.png\n",
    "\n",
    "!python app.py"
   ]
  }
 ],
 "metadata": {
  "accelerator": "GPU",
  "colab": {
   "gpuType": "T4",
   "provenance": []
  },
  "kernelspec": {
   "display_name": "Python 3",
   "name": "python3"
  },
  "language_info": {
   "name": "python"
  }
 },
 "nbformat": 4,
 "nbformat_minor": 0
}
